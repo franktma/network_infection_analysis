{
 "cells": [
  {
   "cell_type": "markdown",
   "metadata": {},
   "source": [
    "## Bitsight Data Exercise\n",
    "\n",
    "#### The dataset\n",
    "Botnets are infections on computer networks that can have very undesirable consequences. There are many di erent types of botnets, each with its own behavior. This is a data set of observed botnet infections on corporate networks.\n",
    "There are four columns in the data set:\n",
    "* Event - this is the botnet type that’s infected the corporate network.\n",
    "* Date - this is the date that we observed the infection. The date is in YYYY-MM-DD format.\n",
    "We are observing botnets once daily, which means that, for example, a four day botnet\n",
    "infection would show up as four separate date entries.\n",
    "* IP - this is the IP address of the infected machine.\n",
    "* Entity - entities are companies or organizations. We’re representing them here by a code.\n",
    "You’ll notice that the code is the  rst three octets of the IP address (technically, this means all entities have a /24 CIDR block)."
   ]
  },
  {
   "cell_type": "code",
   "execution_count": 1,
   "metadata": {
    "collapsed": true
   },
   "outputs": [],
   "source": [
    "# standing data tools\n",
    "import pandas as pd\n",
    "import numpy as np\n",
    "import matplotlib.pyplot as plt\n",
    "%matplotlib inline"
   ]
  },
  {
   "cell_type": "code",
   "execution_count": 2,
   "metadata": {
    "collapsed": false
   },
   "outputs": [],
   "source": [
    "data=pd.read_csv(\"sampledata.csv\")"
   ]
  },
  {
   "cell_type": "code",
   "execution_count": 3,
   "metadata": {
    "collapsed": false
   },
   "outputs": [
    {
     "name": "stdout",
     "output_type": "stream",
     "text": [
      "<class 'pandas.core.frame.DataFrame'>\n",
      "RangeIndex: 56526 entries, 0 to 56525\n",
      "Data columns (total 4 columns):\n",
      "event     56526 non-null object\n",
      "date      56526 non-null object\n",
      "ip        56526 non-null object\n",
      "entity    56526 non-null object\n",
      "dtypes: object(4)\n",
      "memory usage: 1.7+ MB\n"
     ]
    }
   ],
   "source": [
    "data.info()"
   ]
  },
  {
   "cell_type": "code",
   "execution_count": 5,
   "metadata": {
    "collapsed": false
   },
   "outputs": [
    {
     "data": {
      "text/html": [
       "<div>\n",
       "<table border=\"1\" class=\"dataframe\">\n",
       "  <thead>\n",
       "    <tr style=\"text-align: right;\">\n",
       "      <th></th>\n",
       "      <th>event</th>\n",
       "      <th>date</th>\n",
       "      <th>ip</th>\n",
       "      <th>entity</th>\n",
       "    </tr>\n",
       "  </thead>\n",
       "  <tbody>\n",
       "    <tr>\n",
       "      <th>0</th>\n",
       "      <td>bot3</td>\n",
       "      <td>2015-09-01</td>\n",
       "      <td>235.56.188.57</td>\n",
       "      <td>235.56.188</td>\n",
       "    </tr>\n",
       "    <tr>\n",
       "      <th>1</th>\n",
       "      <td>bot3</td>\n",
       "      <td>2015-09-01</td>\n",
       "      <td>206.125.206.160</td>\n",
       "      <td>206.125.206</td>\n",
       "    </tr>\n",
       "    <tr>\n",
       "      <th>2</th>\n",
       "      <td>bot3</td>\n",
       "      <td>2015-09-01</td>\n",
       "      <td>75.196.171.216</td>\n",
       "      <td>75.196.171</td>\n",
       "    </tr>\n",
       "    <tr>\n",
       "      <th>3</th>\n",
       "      <td>bot2</td>\n",
       "      <td>2015-09-01</td>\n",
       "      <td>70.100.111.202</td>\n",
       "      <td>70.100.111</td>\n",
       "    </tr>\n",
       "    <tr>\n",
       "      <th>4</th>\n",
       "      <td>bot1</td>\n",
       "      <td>2015-09-01</td>\n",
       "      <td>75.182.185.3</td>\n",
       "      <td>75.182.185</td>\n",
       "    </tr>\n",
       "    <tr>\n",
       "      <th>5</th>\n",
       "      <td>bot3</td>\n",
       "      <td>2015-09-01</td>\n",
       "      <td>235.56.188.100</td>\n",
       "      <td>235.56.188</td>\n",
       "    </tr>\n",
       "    <tr>\n",
       "      <th>6</th>\n",
       "      <td>bot1</td>\n",
       "      <td>2015-09-01</td>\n",
       "      <td>235.109.9.162</td>\n",
       "      <td>235.109.9</td>\n",
       "    </tr>\n",
       "    <tr>\n",
       "      <th>7</th>\n",
       "      <td>bot2</td>\n",
       "      <td>2015-09-01</td>\n",
       "      <td>191.234.168.12</td>\n",
       "      <td>191.234.168</td>\n",
       "    </tr>\n",
       "    <tr>\n",
       "      <th>8</th>\n",
       "      <td>bot1</td>\n",
       "      <td>2015-09-01</td>\n",
       "      <td>204.192.230.149</td>\n",
       "      <td>204.192.230</td>\n",
       "    </tr>\n",
       "    <tr>\n",
       "      <th>9</th>\n",
       "      <td>bot2</td>\n",
       "      <td>2015-09-01</td>\n",
       "      <td>168.175.174.235</td>\n",
       "      <td>168.175.174</td>\n",
       "    </tr>\n",
       "  </tbody>\n",
       "</table>\n",
       "</div>"
      ],
      "text/plain": [
       "  event        date               ip       entity\n",
       "0  bot3  2015-09-01    235.56.188.57   235.56.188\n",
       "1  bot3  2015-09-01  206.125.206.160  206.125.206\n",
       "2  bot3  2015-09-01   75.196.171.216   75.196.171\n",
       "3  bot2  2015-09-01   70.100.111.202   70.100.111\n",
       "4  bot1  2015-09-01     75.182.185.3   75.182.185\n",
       "5  bot3  2015-09-01   235.56.188.100   235.56.188\n",
       "6  bot1  2015-09-01    235.109.9.162    235.109.9\n",
       "7  bot2  2015-09-01   191.234.168.12  191.234.168\n",
       "8  bot1  2015-09-01  204.192.230.149  204.192.230\n",
       "9  bot2  2015-09-01  168.175.174.235  168.175.174"
      ]
     },
     "execution_count": 5,
     "metadata": {},
     "output_type": "execute_result"
    }
   ],
   "source": [
    "data.head(10)"
   ]
  },
  {
   "cell_type": "code",
   "execution_count": 6,
   "metadata": {
    "collapsed": false,
    "scrolled": true
   },
   "outputs": [
    {
     "data": {
      "text/plain": [
       "event     0\n",
       "date      0\n",
       "ip        0\n",
       "entity    0\n",
       "dtype: int64"
      ]
     },
     "execution_count": 6,
     "metadata": {},
     "output_type": "execute_result"
    }
   ],
   "source": [
    "data.isnull().sum()"
   ]
  },
  {
   "cell_type": "markdown",
   "metadata": {
    "collapsed": false
   },
   "source": [
    "Good there are no empty fields"
   ]
  },
  {
   "cell_type": "code",
   "execution_count": 8,
   "metadata": {
    "collapsed": false
   },
   "outputs": [
    {
     "data": {
      "text/plain": [
       "bot2           19001\n",
       "bot3           13676\n",
       "bot1           13609\n",
       "unsolicited    10240\n",
       "Name: event, dtype: int64"
      ]
     },
     "execution_count": 8,
     "metadata": {},
     "output_type": "execute_result"
    }
   ],
   "source": [
    "# Take a look at the fractions of different botnets in data\n",
    "data['event'].value_counts()"
   ]
  },
  {
   "cell_type": "markdown",
   "metadata": {
    "collapsed": false
   },
   "source": [
    "### Challenge 1: Counting\n",
    "How many of each type of event occurred on September 30, 2015?"
   ]
  },
  {
   "cell_type": "markdown",
   "metadata": {},
   "source": [
    "### Answer to Challenge 1:"
   ]
  },
  {
   "cell_type": "code",
   "execution_count": 9,
   "metadata": {
    "collapsed": false,
    "scrolled": true
   },
   "outputs": [
    {
     "name": "stdout",
     "output_type": "stream",
     "text": [
      "bot2    112\n",
      "bot3     94\n",
      "bot1     79\n",
      "Name: event, dtype: int64\n"
     ]
    }
   ],
   "source": [
    "print data['event'][(data['date']=='2015-09-01')].value_counts()"
   ]
  },
  {
   "cell_type": "markdown",
   "metadata": {},
   "source": [
    "### Challenge 2: IP address infection duration distribution\n",
    "Count the infection duration in days for each event type for each IP address. Infection duration means the number of contiguous days an infection was seen; for example if an infection was seen on a IP address for  ve contiguous days and then twenty days later for six days, that would be two infections, one of duration five and one of duration six. Plot the duration distribution for each event type across all IP addresses (you should have one plot per event type).\n",
    "\n",
    "(For this simplied data set, each IP only has infections of one event type)."
   ]
  },
  {
   "cell_type": "code",
   "execution_count": 11,
   "metadata": {
    "collapsed": false
   },
   "outputs": [],
   "source": [
    "# First transform the date column to pandas datetime format\n",
    "data['datetime']=pd.to_datetime(data['date'])"
   ]
  },
  {
   "cell_type": "code",
   "execution_count": 12,
   "metadata": {
    "collapsed": false
   },
   "outputs": [],
   "source": [
    "# Now sort first according to to ip and then within each ip, according to the datetime\n",
    "bot2sorted=data[data['event']=='bot2'].sort_values(by=['ip','datetime'])"
   ]
  },
  {
   "cell_type": "code",
   "execution_count": 13,
   "metadata": {
    "collapsed": false
   },
   "outputs": [
    {
     "data": {
      "text/html": [
       "<div>\n",
       "<table border=\"1\" class=\"dataframe\">\n",
       "  <thead>\n",
       "    <tr style=\"text-align: right;\">\n",
       "      <th></th>\n",
       "      <th>event</th>\n",
       "      <th>date</th>\n",
       "      <th>ip</th>\n",
       "      <th>entity</th>\n",
       "      <th>datetime</th>\n",
       "    </tr>\n",
       "  </thead>\n",
       "  <tbody>\n",
       "    <tr>\n",
       "      <th>48077</th>\n",
       "      <td>bot2</td>\n",
       "      <td>2015-10-22</td>\n",
       "      <td>1.92.220.108</td>\n",
       "      <td>1.92.220</td>\n",
       "      <td>2015-10-22</td>\n",
       "    </tr>\n",
       "    <tr>\n",
       "      <th>49299</th>\n",
       "      <td>bot2</td>\n",
       "      <td>2015-10-23</td>\n",
       "      <td>1.92.220.108</td>\n",
       "      <td>1.92.220</td>\n",
       "      <td>2015-10-23</td>\n",
       "    </tr>\n",
       "    <tr>\n",
       "      <th>35626</th>\n",
       "      <td>bot2</td>\n",
       "      <td>2015-10-09</td>\n",
       "      <td>1.92.220.124</td>\n",
       "      <td>1.92.220</td>\n",
       "      <td>2015-10-09</td>\n",
       "    </tr>\n",
       "    <tr>\n",
       "      <th>37035</th>\n",
       "      <td>bot2</td>\n",
       "      <td>2015-10-10</td>\n",
       "      <td>1.92.220.124</td>\n",
       "      <td>1.92.220</td>\n",
       "      <td>2015-10-10</td>\n",
       "    </tr>\n",
       "    <tr>\n",
       "      <th>38182</th>\n",
       "      <td>bot2</td>\n",
       "      <td>2015-10-11</td>\n",
       "      <td>1.92.220.124</td>\n",
       "      <td>1.92.220</td>\n",
       "      <td>2015-10-11</td>\n",
       "    </tr>\n",
       "  </tbody>\n",
       "</table>\n",
       "</div>"
      ],
      "text/plain": [
       "      event        date            ip    entity   datetime\n",
       "48077  bot2  2015-10-22  1.92.220.108  1.92.220 2015-10-22\n",
       "49299  bot2  2015-10-23  1.92.220.108  1.92.220 2015-10-23\n",
       "35626  bot2  2015-10-09  1.92.220.124  1.92.220 2015-10-09\n",
       "37035  bot2  2015-10-10  1.92.220.124  1.92.220 2015-10-10\n",
       "38182  bot2  2015-10-11  1.92.220.124  1.92.220 2015-10-11"
      ]
     },
     "execution_count": 13,
     "metadata": {},
     "output_type": "execute_result"
    }
   ],
   "source": [
    "# quick check\n",
    "bot2sorted.head(5)"
   ]
  },
  {
   "cell_type": "code",
   "execution_count": 16,
   "metadata": {
    "collapsed": false
   },
   "outputs": [
    {
     "data": {
      "text/plain": [
       "['bot1', 'bot3', 'bot2', 'unsolicited']"
      ]
     },
     "execution_count": 16,
     "metadata": {},
     "output_type": "execute_result"
    }
   ],
   "source": [
    "# Summarize the different types of events in the dataset\n",
    "g=data.groupby('event')\n",
    "g.groups.keys()"
   ]
  },
  {
   "cell_type": "markdown",
   "metadata": {},
   "source": [
    "#### For a given event type, we want to find the continuous ranges of dates for each ip\n",
    "Idea:\n",
    "1. If we subtract an input set x with continuous increasing set, then each continuous parts of x would result in a unique constant difference.\n",
    "2. We group by that unique difference and finally make the count"
   ]
  },
  {
   "cell_type": "code",
   "execution_count": 23,
   "metadata": {
    "collapsed": false
   },
   "outputs": [
    {
     "name": "stdout",
     "output_type": "stream",
     "text": [
      "==== bot1 ====\n",
      "     event        date             ip     entity   datetime    refdate  \\\n",
      "2936  bot1  2015-09-05  10.222.68.133  10.222.68 2015-09-05 2015-09-01   \n",
      "3932  bot1  2015-09-06  10.222.68.133  10.222.68 2015-09-06 2015-09-02   \n",
      "\n",
      "      refdelta  \n",
      "2936    4 days  \n",
      "3932    4 days  \n",
      "count    4336.000000\n",
      "mean        3.138607\n",
      "std         1.945728\n",
      "min         2.000000\n",
      "25%         2.000000\n",
      "50%         3.000000\n",
      "75%         3.000000\n",
      "max        24.000000\n",
      "dtype: float64\n",
      "\n",
      "==== bot2 ====\n",
      "      event        date            ip    entity   datetime    refdate  \\\n",
      "48077  bot2  2015-10-22  1.92.220.108  1.92.220 2015-10-22 2015-09-01   \n",
      "49299  bot2  2015-10-23  1.92.220.108  1.92.220 2015-10-23 2015-09-02   \n",
      "\n",
      "       refdelta  \n",
      "48077   51 days  \n",
      "49299   51 days  \n",
      "count    6027.000000\n",
      "mean        3.152646\n",
      "std         2.067463\n",
      "min         2.000000\n",
      "25%         2.000000\n",
      "50%         2.000000\n",
      "75%         3.000000\n",
      "max        38.000000\n",
      "dtype: float64\n",
      "\n",
      "==== bot3 ====\n",
      "      event        date             ip     entity   datetime    refdate  \\\n",
      "49968  bot3  2015-10-24  1.106.159.109  1.106.159 2015-10-24 2015-09-01   \n",
      "51679  bot3  2015-10-25  1.106.159.109  1.106.159 2015-10-25 2015-09-02   \n",
      "\n",
      "       refdelta  \n",
      "49968   53 days  \n",
      "51679   53 days  \n",
      "count    4403.000000\n",
      "mean        3.106064\n",
      "std         1.972175\n",
      "min         2.000000\n",
      "25%         2.000000\n",
      "50%         2.000000\n",
      "75%         3.000000\n",
      "max        34.000000\n",
      "dtype: float64\n",
      "\n",
      "==== unsolicited ====\n",
      "             event        date             ip     entity   datetime  \\\n",
      "29413  unsolicited  2015-10-02  1.106.159.119  1.106.159 2015-10-02   \n",
      "30250  unsolicited  2015-10-03  1.106.159.119  1.106.159 2015-10-03   \n",
      "\n",
      "         refdate  refdelta  \n",
      "29413 2015-09-01   31 days  \n",
      "30250 2015-09-02   31 days  \n",
      "count    3309.000000\n",
      "mean        3.094591\n",
      "std         1.862033\n",
      "min         2.000000\n",
      "25%         2.000000\n",
      "50%         3.000000\n",
      "75%         3.000000\n",
      "max        34.000000\n",
      "dtype: float64\n",
      "\n"
     ]
    }
   ],
   "source": [
    "evtnames=g.groups.keys()\n",
    "evtnames.sort()\n",
    "evtgroups=[]\n",
    "evtcounts=[]\n",
    "for i in range(len(evtnames)):\n",
    "    print '====',evtnames[i],'===='\n",
    "    isorted = data[data['event']==evtnames[i]].sort_values(by=['ip','datetime'])\n",
    "    isorted['refdate']=pd.date_range(start='2015-09-01',periods=len(isorted))\n",
    "    isorted['refdelta']=(isorted['datetime'] - isorted['refdate'])\n",
    "    icount=isorted[['ip','refdelta']].groupby(['ip','refdelta']).size()\n",
    "    evtgroups.append(isorted)\n",
    "    evtcounts.append(icount)\n",
    "    print evtgroups[i].head(2)\n",
    "    print evtcounts[i].describe()\n",
    "    print"
   ]
  },
  {
   "cell_type": "markdown",
   "metadata": {},
   "source": [
    "### Answer to Challenge 2"
   ]
  },
  {
   "cell_type": "code",
   "execution_count": 27,
   "metadata": {
    "collapsed": false
   },
   "outputs": [
    {
     "data": {
      "image/png": "[encoded data removed]",
      "text/plain": [
       "<matplotlib.figure.Figure at 0x119392410>"
      ]
     },
     "metadata": {},
     "output_type": "display_data"
    }
   ],
   "source": [
    "f, axarr = plt.subplots(nrows=1, ncols=len(evtnames), figsize=(25, 5))\n",
    "for i in range(len(evtnames)):\n",
    "    axarr[i].hist(evtcounts[i],40,(0,40),histtype='step', linewidth=2,label=evtnames[i])\n",
    "    axarr[i].set_xscale('log')\n",
    "    axarr[i].set_yscale('log')\n",
    "    axarr[i].set_title(evtnames[i], fontsize=20)\n",
    "    axarr[i].set_xlabel('Infection Duration (Days)', fontsize=20)\n",
    "    axarr[i].set_ylabel('# Entries', fontsize=20)"
   ]
  },
  {
   "cell_type": "markdown",
   "metadata": {},
   "source": [
    "### Challenge 3: Entity infection distribution\n",
    "Count the total number of event-days for each entity. One event-day is one event per day, so if there were  five events on a single day, this would count as  five event-days for that entity. If a single event happened on four days, that would count as four event-days, and so on. You should sum the event-days for each entity. Plot the distribution of event-days for each event type across all entities (you should have one plot per botnet type).\n",
    "\n",
    "(Hint: you should have 100 values for each event type - one sum of event-days for each the 100 entities)\n"
   ]
  },
  {
   "cell_type": "code",
   "execution_count": 29,
   "metadata": {
    "collapsed": false
   },
   "outputs": [
    {
     "name": "stdout",
     "output_type": "stream",
     "text": [
      "==== bot1 ====\n",
      "     event        date             ip     entity   datetime\n",
      "607   bot1  2015-09-02  10.222.68.142  10.222.68 2015-09-02\n",
      "1340  bot1  2015-09-03  10.222.68.142  10.222.68 2015-09-03\n",
      "count    100.000000\n",
      "mean     136.090000\n",
      "std      135.577187\n",
      "min       23.000000\n",
      "25%       49.750000\n",
      "50%       86.500000\n",
      "75%      168.250000\n",
      "max      807.000000\n",
      "dtype: float64\n",
      "\n",
      "==== bot2 ====\n",
      "     event        date           ip    entity   datetime\n",
      "4807  bot2  2015-09-07  1.92.220.29  1.92.220 2015-09-07\n",
      "5372  bot2  2015-09-08  1.92.220.29  1.92.220 2015-09-08\n",
      "count    100.000000\n",
      "mean     190.010000\n",
      "std      145.654323\n",
      "min       46.000000\n",
      "25%       90.750000\n",
      "50%      143.000000\n",
      "75%      237.250000\n",
      "max      824.000000\n",
      "dtype: float64\n",
      "\n",
      "==== bot3 ====\n",
      "   event        date             ip     entity   datetime\n",
      "10  bot3  2015-09-01  1.106.159.186  1.106.159 2015-09-01\n",
      "95  bot3  2015-09-01  1.106.159.156  1.106.159 2015-09-01\n",
      "count    100.000000\n",
      "mean     136.760000\n",
      "std      133.792325\n",
      "min       23.000000\n",
      "25%       52.500000\n",
      "50%       91.000000\n",
      "75%      164.000000\n",
      "max      802.000000\n",
      "dtype: float64\n",
      "\n",
      "==== unsolicited ====\n",
      "            event        date            ip     entity   datetime\n",
      "2935  unsolicited  2015-09-05   1.106.159.6  1.106.159 2015-09-05\n",
      "3550  unsolicited  2015-09-06  1.106.159.80  1.106.159 2015-09-06\n",
      "count    100.000000\n",
      "mean     102.400000\n",
      "std       99.311163\n",
      "min       11.000000\n",
      "25%       36.750000\n",
      "50%       67.500000\n",
      "75%      125.500000\n",
      "max      546.000000\n",
      "dtype: float64\n",
      "\n"
     ]
    }
   ],
   "source": [
    "entgroups=[]\n",
    "entcounts=[]\n",
    "for i in range(len(evtnames)):\n",
    "    print '====',evtnames[i],'===='\n",
    "    entgroups.append(data[data['event']==evtnames[i]].sort_values(by=['entity','datetime']))\n",
    "    entcounts.append(entgroups[i].groupby(['entity']).size())\n",
    "    print entgroups[i].head(2)\n",
    "    print entcounts[i].describe()\n",
    "    print"
   ]
  },
  {
   "cell_type": "markdown",
   "metadata": {},
   "source": [
    "### Answer to Challenge 3"
   ]
  },
  {
   "cell_type": "code",
   "execution_count": 42,
   "metadata": {
    "collapsed": false
   },
   "outputs": [
    {
     "data": {
      "image/png": "[encoded data removed]",
      "text/plain": [
       "<matplotlib.figure.Figure at 0x11aa061d0>"
      ]
     },
     "metadata": {},
     "output_type": "display_data"
    }
   ],
   "source": [
    "f, axarr = plt.subplots(nrows=1, ncols=len(evtnames), figsize=(20, 4))\n",
    "for i in range(len(evtnames)):\n",
    "    axarr[i].hist(entcounts[i],120,(10,1010),histtype='step',linewidth=2,label=evtnames[i])\n",
    "    axarr[i].set_xscale('log')\n",
    "    axarr[i].set_title(evtnames[i], fontsize=20)\n",
    "    axarr[i].set_xlabel('Entity Infection (Evtn-days)', fontsize=20)\n",
    "    axarr[i].set_ylabel('# Entries', fontsize=20)"
   ]
  },
  {
   "cell_type": "markdown",
   "metadata": {},
   "source": [
    "### Challenge 4: Identifying the distribution\n",
    "Describe and discuss the distribution for “bot2” in Challenge 3. What kind of distribution does it\n",
    "look like?\n",
    "\n",
    "### Answer to Challenge 4:\n",
    "Since on a log-log scale the distribution looks linear, this looks like a power-law histribution."
   ]
  },
  {
   "cell_type": "markdown",
   "metadata": {},
   "source": [
    "### Challenge 5: Bonus question\n",
    "If you’ve got this far, well done! This is an optional bonus question.\n",
    "Can you fit different distributions types to the \"bot2\" distribution? Which distribution type is the best fit? Please measure how well the distributions model the data."
   ]
  },
  {
   "cell_type": "code",
   "execution_count": 35,
   "metadata": {
    "collapsed": false
   },
   "outputs": [
    {
     "data": {
      "image/png": "[encoded data removed]",
      "text/plain": [
       "<matplotlib.figure.Figure at 0x11945bd10>"
      ]
     },
     "metadata": {},
     "output_type": "display_data"
    }
   ],
   "source": [
    "# First obtain the histogram of the histribution\n",
    "x = evtcounts[1].as_matrix()\n",
    "[hy,b1,p1] = plt.hist(x,12,(2,14))\n",
    "plt.xscale('log')\n",
    "plt.yscale('log')\n",
    "hx = [(s+t)/2 for s, t in zip(b1, b1[1:])] # take the bin centers as x\n",
    "ye = np.sqrt(hy) # error for each bin (assuming that average of a random is gaussian by the centeral limit theorem)"
   ]
  },
  {
   "cell_type": "code",
   "execution_count": 40,
   "metadata": {
    "collapsed": false
   },
   "outputs": [],
   "source": [
    "# Now fit the distribution\n",
    "# The distribution falls steeply, and is roughly linear on a log-log plot.\n",
    "# We guess that the functional form is is a power law distribution\n",
    "# We also fit an expotential for comparison\n",
    "from sklearn.metrics import mean_squared_error\n",
    "from scipy.optimize import curve_fit\n",
    "def fpower(x,a,b):\n",
    "    return a * x ** b\n",
    "def fexp(x,a,b):\n",
    "    return a * np.exp(np.multiply(b,x))\n",
    "popt, pcov = curve_fit(fpower, hx, hy, sigma=ye)\n",
    "popt2, pcov2 = curve_fit(fexp, hx, hy)"
   ]
  },
  {
   "cell_type": "markdown",
   "metadata": {},
   "source": [
    "### Answer to Challenge 5"
   ]
  },
  {
   "cell_type": "code",
   "execution_count": 56,
   "metadata": {
    "collapsed": false
   },
   "outputs": [
    {
     "data": {
      "text/plain": [
       "<matplotlib.text.Text at 0x11d450450>"
      ]
     },
     "execution_count": 56,
     "metadata": {},
     "output_type": "execute_result"
    },
    {
     "data": {
      "image/png": "[encoded data removed]",
      "text/plain": [
       "<matplotlib.figure.Figure at 0x11d179950>"
      ]
     },
     "metadata": {},
     "output_type": "display_data"
    }
   ],
   "source": [
    "f, ax = plt.subplots(1, 1, figsize=(7, 7))\n",
    "plt.xscale('log')\n",
    "plt.yscale('log')\n",
    "plt.errorbar(hx, hy, yerr=ye, fmt='o',label='data')\n",
    "plt.plot(hx, fpower(hx, *popt), 'r-', label='power fit')\n",
    "plt.plot(hx, fexp(hx, *popt2), 'g--', label='exponential fit')\n",
    "plt.legend(loc='lower left', fontsize=20)\n",
    "ax.set_title('bot2', fontsize=20)\n",
    "ax.set_xlabel('Infection Duration (Days)', fontsize=20)\n",
    "ax.set_ylabel('# Entries', fontsize=20)"
   ]
  },
  {
   "cell_type": "markdown",
   "metadata": {},
   "source": [
    "### Now measure the model performance\n",
    "Using root mean squared error as the error metric"
   ]
  },
  {
   "cell_type": "code",
   "execution_count": 59,
   "metadata": {
    "collapsed": false
   },
   "outputs": [
    {
     "name": "stdout",
     "output_type": "stream",
     "text": [
      "The root mean square error for power law fit = 120.766239446\n",
      "The root mean square error for exponential fit = 21.1202900499\n"
     ]
    }
   ],
   "source": [
    "print 'The root mean square error for power law fit =', np.sqrt(mean_squared_error(hy, fpower(hx, *popt)))\n",
    "print 'The root mean square error for exponential fit =',np.sqrt(mean_squared_error(hy, fexp(hx, *popt2)))"
   ]
  },
  {
   "cell_type": "markdown",
   "metadata": {
    "collapsed": false
   },
   "source": [
    "### Conclusion of the fit\n",
    "We see that the root mean standard error is numerically smaller for the exponential fit. This does not however automatically imply that the exponential is a better fit. From the plot above, we see that the exponential function fits the data well for the first 5 bins but it does not capture the tail of the distribution. However since the distribution falls sharply the first few bin dominate the mean error.\n",
    "\n",
    "The power-law distribution captures the tail, however, it does slightly worse for the first few bins. But since the mean error is dominate by the first few bins, the performance measure is much worse than the exponential.\n",
    "\n",
    "In conclusion each functional form does a bit better for a different range of the data. I think a combined function power-law + exponential is probably the best."
   ]
  }
 ],
 "metadata": {
  "kernelspec": {
   "display_name": "Python 2",
   "language": "python",
   "name": "python2"
  },
  "language_info": {
   "codemirror_mode": {
    "name": "ipython",
    "version": 2
   },
   "file_extension": ".py",
   "mimetype": "text/x-python",
   "name": "python",
   "nbconvert_exporter": "python",
   "pygments_lexer": "ipython2",
   "version": "2.7.13"
  }
 },
 "nbformat": 4,
 "nbformat_minor": 2
}
